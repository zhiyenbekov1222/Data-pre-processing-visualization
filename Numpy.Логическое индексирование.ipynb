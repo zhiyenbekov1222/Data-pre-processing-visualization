{
 "cells": [
  {
   "cell_type": "markdown",
   "metadata": {},
   "source": [
    "### NumPy: Логическое индексирование [Домашнее задание]\n",
    "> **Вы должны импортировать все необходимые пакеты самостоятельно.**\n",
    "\n",
    "> **Пишите код только там, где это показано для записи. Не удаляйте комментарии!**\n",
    " "
   ]
  },
  {
   "cell_type": "markdown",
   "metadata": {},
   "source": [
    "1. Пожалуйста, напишите функцию ```load_data(filename)```, которая будет загружать данные из csv-файла в список списков. Пожалуйста, напишите функцию load_data (имя файла), которая будет загружать данные из csv-файла в список списков. Файл ```Social_Network_Ads.csv``` предоставлен вместе с этим jupyter notebook.\n",
    "\n",
    "\n",
    "**Примечание:** В случае, если имя файла задано неверно, функция ```load_data``` должна вывести следующее сообщение об ошибке:\n",
    "\n",
    "```{имя файла} does not exist```"
   ]
  },
  {
   "cell_type": "code",
   "execution_count": 3,
   "metadata": {},
   "outputs": [],
   "source": [
    "#Начало вашего кода\n",
    "import csv\n",
    "import numpy as np\n",
    "import os.path\n",
    "def load_data(filename):\n",
    "    csv_list=[]\n",
    "    data_head=[]\n",
    "    if os.path.exists(\"{}\".format(filename)):\n",
    "        with open(filename,\"r\") as file:\n",
    "            csv_reader = csv.reader(file, delimiter=',')\n",
    "            for row in csv_reader:\n",
    "                csv_list.append(row)\n",
    "                header=csv_list[0]\n",
    "                data=csv_list[1:]\n",
    "            return header,data\n",
    "    else:\n",
    "        print(\"{} does not exist\".format(filename))\n",
    "        return None,None\n",
    "#Конец вашего кода"
   ]
  },
  {
   "cell_type": "code",
   "execution_count": 4,
   "metadata": {},
   "outputs": [
    {
     "name": "stdout",
     "output_type": "stream",
     "text": [
      "./SocialNetworkAds.csv does not exist\n"
     ]
    }
   ],
   "source": [
    "filename = \"./SocialNetworkAds.csv\"\n",
    "header,data = load_data(filename=filename)"
   ]
  },
  {
   "cell_type": "markdown",
   "metadata": {},
   "source": [
    "### Ожидаемый результат:\n",
    "\n",
    "```\n",
    "./SocialNetworkAds.csv does not exist\n",
    "```"
   ]
  },
  {
   "cell_type": "code",
   "execution_count": 5,
   "metadata": {},
   "outputs": [
    {
     "name": "stdout",
     "output_type": "stream",
     "text": [
      "None\n",
      "None\n"
     ]
    }
   ],
   "source": [
    "print(header)\n",
    "print(data)"
   ]
  },
  {
   "cell_type": "markdown",
   "metadata": {},
   "source": [
    "### Ожидаемый результат:\n",
    "\n",
    "```\n",
    "None\n",
    "None\n",
    "```"
   ]
  },
  {
   "cell_type": "code",
   "execution_count": 6,
   "metadata": {},
   "outputs": [],
   "source": [
    "filename = \"./Social_Network_Ads.csv\"\n",
    "header, data = load_data(filename=filename)"
   ]
  },
  {
   "cell_type": "code",
   "execution_count": 7,
   "metadata": {},
   "outputs": [
    {
     "name": "stdout",
     "output_type": "stream",
     "text": [
      "['User ID', 'Gender', 'Age', 'EstimatedSalary', 'Purchased']\n"
     ]
    }
   ],
   "source": [
    "print(header)"
   ]
  },
  {
   "cell_type": "markdown",
   "metadata": {},
   "source": [
    "### Ожидаемый результат:\n",
    "\n",
    "```\n",
    "['User ID', 'Gender', 'Age', 'EstimatedSalary', 'Purchased']\n",
    "```"
   ]
  },
  {
   "cell_type": "code",
   "execution_count": 8,
   "metadata": {},
   "outputs": [
    {
     "name": "stdout",
     "output_type": "stream",
     "text": [
      "['15624510', 'Male', '19', '19000', '0']\n",
      "['15810944', 'Male', '35', '20000', '0']\n",
      "['15668575', 'Female', '26', '43000', '0']\n",
      "['15603246', 'Female', '27', '57000', '0']\n",
      "['15804002', 'Male', '19', '76000', '0']\n"
     ]
    }
   ],
   "source": [
    "for i in range(5):\n",
    "    print(data[i])"
   ]
  },
  {
   "cell_type": "markdown",
   "metadata": {},
   "source": [
    "### Ожидаемый результат:\n",
    "\n",
    "```\n",
    "['15624510', 'Male', '19', '19000', '0']\n",
    "['15810944', 'Male', '35', '20000', '0']\n",
    "['15668575', 'Female', '26', '43000', '0']\n",
    "['15603246', 'Female', '27', '57000', '0']\n",
    "['15804002', 'Male', '19', '76000', '0']\n",
    "```"
   ]
  },
  {
   "cell_type": "markdown",
   "metadata": {},
   "source": [
    "2. Пожалуйста, напишите функцию ```preprocess_data(data)```, которая преобразует все элементы типа ```str``` в списке ```data``` в целые числа.\n",
    "\n",
    "\n",
    "**Подсказка:** в случае \"Male\" и \"Female\" возможно следующее преобразование:\n",
    "\n",
    "* заменить \"Male\" на число 0\n",
    "\n",
    "* заменить \"Female\" на число 1"
   ]
  },
  {
   "cell_type": "code",
   "execution_count": 9,
   "metadata": {},
   "outputs": [],
   "source": [
    "#Начало вашего кода\n",
    "def preprocess_data(data):\n",
    "    data_list=[]\n",
    "    data_list.append(data)\n",
    "    data_np=np.array(data_list)\n",
    "    bool_1=data_np==\"Male\"\n",
    "    data_np[bool_1]=0\n",
    "    bool_2=data_np==\"Female\"\n",
    "    data_np[bool_2]=1\n",
    "    data_np = data_np.astype(np.int)\n",
    "    return data_np[0].tolist()\n",
    "    \n",
    "#Конец вашего кода"
   ]
  },
  {
   "cell_type": "code",
   "execution_count": 10,
   "metadata": {},
   "outputs": [],
   "source": [
    "filt_data = preprocess_data(data=data)"
   ]
  },
  {
   "cell_type": "code",
   "execution_count": 11,
   "metadata": {},
   "outputs": [
    {
     "name": "stdout",
     "output_type": "stream",
     "text": [
      "[15624510, 0, 19, 19000, 0]\n",
      "[15810944, 0, 35, 20000, 0]\n",
      "[15668575, 1, 26, 43000, 0]\n",
      "[15603246, 1, 27, 57000, 0]\n",
      "[15804002, 0, 19, 76000, 0]\n"
     ]
    }
   ],
   "source": [
    "for i in range(5):\n",
    "    print(filt_data[i])"
   ]
  },
  {
   "cell_type": "markdown",
   "metadata": {},
   "source": [
    "### Ожидаемый результат:\n",
    "\n",
    "```\n",
    "[15624510, 0, 19, 19000, 0]\n",
    "[15810944, 0, 35, 20000, 0]\n",
    "[15668575, 1, 26, 43000, 0]\n",
    "[15603246, 1, 27, 57000, 0]\n",
    "[15804002, 0, 19, 76000, 0]\n",
    "```"
   ]
  },
  {
   "cell_type": "markdown",
   "metadata": {},
   "source": [
    "2. Вы должны реализовать функцию ```salary_info(data, gender=None)```. Используя логическое индексирование, рассчитайте максимальное, минимальное, среднее, и стандартное отклонение зарплаты."
   ]
  },
  {
   "cell_type": "code",
   "execution_count": 12,
   "metadata": {},
   "outputs": [],
   "source": [
    "#Начало вашего кода\n",
    "def salary_info(data, gender=None):\n",
    "    data_np=np.array(data)\n",
    "    if gender==None:\n",
    "        print(f\"This statisctics are for both genders:\\nMax salary: {data_np[:,3].max():.2f} USD\\nMin salary: {data_np[:,3].min():.2f} USD\\nMean salary: {data_np[:,3].mean():.2f} USD\\nStd of salary: {data_np[:,3].std():.2f} USD\")\n",
    "    elif str(gender).capitalize()==\"Male\":\n",
    "        bool_m=data_np[:,1]==0\n",
    "        data_np=data_np[bool_m]\n",
    "        print(f\"This statisctics are for only Male:\\nMax salary: {data_np[:,3].max():.2f} USD\\nMin salary: {data_np[:,3].min():.2f} USD\\nMean salary: {data_np[:,3].mean():.2f} USD\\nStd of salary: {data_np[:,3].std():.2f} USD\")\n",
    "    elif str(gender).capitalize()==\"Female\":\n",
    "        bool_f=data_np[:,1]==1\n",
    "        data_np=data_np[bool_f]\n",
    "        print(f\"This statisctics are for only Female:\\nMax salary: {data_np[:,3].max():.2f} USD\\nMin salary: {data_np[:,3].min():.2f} USD\\nMean salary: {data_np[:,3].mean():.2f} USD\\nStd of salary: {data_np[:,3].std():.2f} USD\")\n",
    "    else:\n",
    "        print(\"Unexpected input\")\n",
    "#Конец вашего кода"
   ]
  },
  {
   "cell_type": "code",
   "execution_count": 13,
   "metadata": {},
   "outputs": [
    {
     "name": "stdout",
     "output_type": "stream",
     "text": [
      "This statisctics are for both genders:\n",
      "Max salary: 150000.00 USD\n",
      "Min salary: 15000.00 USD\n",
      "Mean salary: 69742.50 USD\n",
      "Std of salary: 34054.31 USD\n"
     ]
    }
   ],
   "source": [
    "salary_info(filt_data)"
   ]
  },
  {
   "cell_type": "markdown",
   "metadata": {},
   "source": [
    "### Ожидаемый результат:\n",
    "\n",
    "```\n",
    "This statisctics are for both genders:\n",
    "Max salary: 150000.00 USD\n",
    "Min salary: 15000.00 USD\n",
    "Mean salary: 69742.50 USD\n",
    "Std of salary: 34054.31 USD\n",
    "```"
   ]
  },
  {
   "cell_type": "code",
   "execution_count": 14,
   "metadata": {},
   "outputs": [
    {
     "name": "stdout",
     "output_type": "stream",
     "text": [
      "This statisctics are for only Female:\n",
      "Max salary: 150000.00 USD\n",
      "Min salary: 15000.00 USD\n",
      "Mean salary: 71759.80 USD\n",
      "Std of salary: 35507.89 USD\n"
     ]
    }
   ],
   "source": [
    "salary_info(filt_data, gender=\"Female\")"
   ]
  },
  {
   "cell_type": "markdown",
   "metadata": {},
   "source": [
    "### Ожидаемый результат:\n",
    "\n",
    "```\n",
    "This statisctics are for only Female:\n",
    "Max salary: 150000.00 USD\n",
    "Min salary: 15000.00 USD\n",
    "Mean salary: 71759.80 USD\n",
    "Std of salary: 35507.89 USD\n",
    "```"
   ]
  },
  {
   "cell_type": "code",
   "execution_count": 15,
   "metadata": {},
   "outputs": [
    {
     "name": "stdout",
     "output_type": "stream",
     "text": [
      "This statisctics are for only Male:\n",
      "Max salary: 150000.00 USD\n",
      "Min salary: 15000.00 USD\n",
      "Mean salary: 67642.86 USD\n",
      "Std of salary: 32339.00 USD\n"
     ]
    }
   ],
   "source": [
    "salary_info(filt_data, gender=\"male\")"
   ]
  },
  {
   "cell_type": "markdown",
   "metadata": {},
   "source": [
    "### Ожидаемый результат:\n",
    "\n",
    "```\n",
    "This statisctics are for only Male:\n",
    "Max salary: 150000.00 USD\n",
    "Min salary: 15000.00 USD\n",
    "Mean salary: 67642.86 USD\n",
    "Std of salary: 32339.00 USD\n",
    "```"
   ]
  },
  {
   "cell_type": "markdown",
   "metadata": {},
   "source": [
    "3. Вы должны реализовать функцию ```age_info(data, gender=None)```. Используя логическое индексирование, рассчитайте максимальное, минимальное, среднее, и стандартное отклонение возрастов."
   ]
  },
  {
   "cell_type": "code",
   "execution_count": 16,
   "metadata": {},
   "outputs": [],
   "source": [
    "#Начало вашего кода\n",
    "def age_info(data, gender=None):\n",
    "    data_np=np.array(data)\n",
    "    if gender==None:\n",
    "        print(f\"This statisctics are for both genders:\\nMax age: {data_np[:,2].max():.2f} years old\\nMin age: {data_np[:,2].min():.2f} years old\\nMean age: {data_np[:,2].mean():.2f} years old\\nStd of age: {data_np[:,2].std():.2f} years\")\n",
    "    elif str(gender).capitalize()==\"Male\":\n",
    "        bool_male_age=data_np[:,1]==0\n",
    "        data_np=data_np[bool_male_age]\n",
    "        print(f\"This statisctics are for only Male:\\nMax age: {data_np[:,2].max():.2f} years old\\nMin age: {data_np[:,2].min():.2f} years old\\nMean age: {data_np[:,2].mean():.2f} years old\\nStd of age: {data_np[:,2].std():.2f} years\")\n",
    "    elif str(gender).capitalize()==\"Female\":\n",
    "        bool_female_age=data_np[:,1]==1\n",
    "        data_np=data_np[bool_female_age]\n",
    "        print(f\"This statisctics are for only Female:\\nMax age: {data_np[:,2].max():.2f} years old\\nMin age: {data_np[:,2].min():.2f} years old\\nMean age: {data_np[:,2].mean():.2f} years old\\nStd of age: {data_np[:,2].std():.2f} years\")\n",
    "    else:\n",
    "        print(\"Unexpected input\")\n",
    "#Конец вашего кода"
   ]
  },
  {
   "cell_type": "code",
   "execution_count": 17,
   "metadata": {},
   "outputs": [
    {
     "name": "stdout",
     "output_type": "stream",
     "text": [
      "This statisctics are for both genders:\n",
      "Max age: 60.00 years old\n",
      "Min age: 18.00 years old\n",
      "Mean age: 37.66 years old\n",
      "Std of age: 10.47 years\n"
     ]
    }
   ],
   "source": [
    "age_info(filt_data)"
   ]
  },
  {
   "cell_type": "markdown",
   "metadata": {},
   "source": [
    "### Ожидаемый результат:\n",
    "\n",
    "```\n",
    "This statisctics are for both genders:\n",
    "Max age: 60.00 years old\n",
    "Min age: 18.00 years old\n",
    "Mean age: 37.66 years old\n",
    "Std of age: 10.47 years\n",
    "```"
   ]
  },
  {
   "cell_type": "code",
   "execution_count": 18,
   "metadata": {},
   "outputs": [
    {
     "name": "stdout",
     "output_type": "stream",
     "text": [
      "This statisctics are for only Female:\n",
      "Max age: 60.00 years old\n",
      "Min age: 18.00 years old\n",
      "Mean age: 38.41 years old\n",
      "Std of age: 10.83 years\n"
     ]
    }
   ],
   "source": [
    "age_info(filt_data,\"FEMALE\")"
   ]
  },
  {
   "cell_type": "markdown",
   "metadata": {},
   "source": [
    "### Ожидаемый результат:\n",
    "\n",
    "```\n",
    "This statisctics are for only Female:\n",
    "Max age: 60.00 years old\n",
    "Min age: 18.00 years old\n",
    "Mean age: 38.41 years old\n",
    "Std of age: 10.83 years\n",
    "```"
   ]
  },
  {
   "cell_type": "code",
   "execution_count": 19,
   "metadata": {},
   "outputs": [
    {
     "name": "stdout",
     "output_type": "stream",
     "text": [
      "This statisctics are for only Male:\n",
      "Max age: 60.00 years old\n",
      "Min age: 18.00 years old\n",
      "Mean age: 36.87 years old\n",
      "Std of age: 10.02 years\n"
     ]
    }
   ],
   "source": [
    "age_info(filt_data,\"mALE\")"
   ]
  },
  {
   "cell_type": "markdown",
   "metadata": {},
   "source": [
    "### Ожидаемый результат:\n",
    "\n",
    "```\n",
    "This statisctics are for only Male:\n",
    "Max age: 60.00 years old\n",
    "Min age: 18.00 years old\n",
    "Mean age: 36.87 years old\n",
    "Std of age: 10.02 years\n",
    "```"
   ]
  },
  {
   "cell_type": "markdown",
   "metadata": {},
   "source": [
    "4. Реализовать функции ```salary_info_purchased(data, gender=None, purchased=None)``` и ```age_info_purchased(data, gender=None, purchased=None)```, возвращая статистику, как в задачах 2 и 3, но в зависимости от того, приобрел ли человек продукт или нет."
   ]
  },
  {
   "cell_type": "code",
   "execution_count": 46,
   "metadata": {},
   "outputs": [],
   "source": [
    "#Начало вашего кода\n",
    "def salary_info_purchased(data, gender=None, purchased=None):\n",
    "    data_np=np.array(data)\n",
    "    bool_m=data_np[:,1]==0\n",
    "    data_m=data_np[bool_m]\n",
    "    bool_f=data_np[:,1]==1\n",
    "    data_f=data_np[bool_f]\n",
    "    if gender==None and purchased==None:\n",
    "        print(f\"This statisctics are for both genders:\\nMax salary: {data_np[:,3].max():.2f} USD\\nMin salary: {data_np[:,3].min():.2f} USD\\nMean salary: {data_np[:,3].mean():.2f} USD\\nStd of salary: {data_np[:,3].std():.2f} USD\")\n",
    "    elif str(gender).capitalize()==\"Male\"and purchased==None:\n",
    "        print(f\"This statisctics are for only Male:\\nMax salary: {data_m[:,3].max():.2f} USD\\nMin salary: {data_m[:,3].min():.2f} USD\\nMean salary: {data_m[:,3].mean():.2f} USD\\nStd of salary: {data_m[:,3].std():.2f} USD\")\n",
    "    elif str(gender).capitalize()==\"Female\"and purchased==None:\n",
    "        print(f\"This statisctics are for only Female:\\nMax salary: {data_f[:,3].max():.2f} USD\\nMin salary: {data_f[:,3].min():.2f} USD\\nMean salary: {data_f[:,3].mean():.2f} USD\\nStd of salary: {data_f[:,3].std():.2f} USD\")\n",
    "    elif gender==None and purchased==True:\n",
    "        bool_p=data_np[:,4]==1\n",
    "        data_np=data_np[bool_p]\n",
    "        print(f\"This statisctics are for both genders and who purchased:\\nMax salary: {data_np[:,3].max():.2f} USD\\nMin salary: {data_np[:,3].min():.2f} USD\\nMean salary: {data_np[:,3].mean():.2f} USD\\nStd of salary: {data_np[:,3].std():.2f} USD\")\n",
    "    elif str(gender).capitalize()==\"Female\" and purchased==True:\n",
    "        bool_fp=data_f[:,4]==1\n",
    "        data_fp=data_f[bool_fp]\n",
    "        print(f\"This statisctics for only Female and who purchased:\\nMax salary: {data_fp[:,3].max():.2f} USD\\nMin salary: {data_fp[:,3].min():.2f} USD\\nMean salary: {data_fp[:,3].mean():.2f} USD\\nStd of salary: {data_fp[:,3].std():.2f} USD\")\n",
    "    elif str(gender).capitalize()==\"Male\" and purchased==False:\n",
    "        bool_purchased=data_m[:,4]==0\n",
    "        data_mp=data_m[bool_purchased]\n",
    "        print(f\"This statisctics are for only Male and who did not purchased:\\nMax salary: {data_mp[:,3].max():.2f} USD\\nMin salary: {data_mp[:,3].min():.2f} USD\\nMean salary: {data_mp[:,3].mean():.2f} USD\\nStd of salary: {data_mp[:,3].std():.2f} USD\")\n",
    "    else:\n",
    "        print(\"Unexpected input\")\n",
    "#Конец вашего кода"
   ]
  },
  {
   "cell_type": "code",
   "execution_count": 47,
   "metadata": {},
   "outputs": [
    {
     "name": "stdout",
     "output_type": "stream",
     "text": [
      "This statisctics are for both genders:\n",
      "Max salary: 150000.00 USD\n",
      "Min salary: 15000.00 USD\n",
      "Mean salary: 69742.50 USD\n",
      "Std of salary: 34054.31 USD\n",
      "\n",
      "\n",
      "This statisctics are for only Female:\n",
      "Max salary: 150000.00 USD\n",
      "Min salary: 15000.00 USD\n",
      "Mean salary: 71759.80 USD\n",
      "Std of salary: 35507.89 USD\n",
      "\n",
      "\n",
      "This statisctics are for only Male:\n",
      "Max salary: 150000.00 USD\n",
      "Min salary: 15000.00 USD\n",
      "Mean salary: 67642.86 USD\n",
      "Std of salary: 32339.00 USD\n",
      "\n",
      "\n",
      "This statisctics are for both genders and who purchased:\n",
      "Max salary: 150000.00 USD\n",
      "Min salary: 20000.00 USD\n",
      "Mean salary: 86272.73 USD\n",
      "Std of salary: 41916.86 USD\n",
      "\n",
      "\n",
      "This statisctics for only Female and who purchased:\n",
      "Max salary: 150000.00 USD\n",
      "Min salary: 20000.00 USD\n",
      "Mean salary: 88714.29 USD\n",
      "Std of salary: 42842.16 USD\n",
      "\n",
      "\n",
      "This statisctics are for only Male and who did not purchased:\n",
      "Max salary: 141000.00 USD\n",
      "Min salary: 15000.00 USD\n",
      "Mean salary: 59630.77 USD\n",
      "Std of salary: 23413.72 USD\n",
      "\n",
      "\n"
     ]
    }
   ],
   "source": [
    "salary_info_purchased(filt_data)\n",
    "print(\"\\n\")\n",
    "salary_info_purchased(filt_data, gender=\"Female\")\n",
    "print(\"\\n\")\n",
    "salary_info_purchased(filt_data, gender=\"Male\")\n",
    "print(\"\\n\")\n",
    "salary_info_purchased(filt_data, purchased=True)\n",
    "print(\"\\n\")\n",
    "salary_info_purchased(filt_data, gender=\"Female\", purchased=True)\n",
    "print(\"\\n\")\n",
    "salary_info_purchased(filt_data, gender=\"Male\", purchased=False)\n",
    "print(\"\\n\")"
   ]
  },
  {
   "cell_type": "markdown",
   "metadata": {},
   "source": [
    "### Ожидаемый результат:\n",
    "\n",
    "```\n",
    "This statisctics are for both genders:\n",
    "Max salary: 150000.00 USD\n",
    "Min salary: 15000.00 USD\n",
    "Mean salary: 69742.50 USD\n",
    "Std of salary: 34054.31 USD\n",
    "\n",
    "\n",
    "This statisctics are for only Female:\n",
    "Max salary: 150000.00 USD\n",
    "Min salary: 15000.00 USD\n",
    "Mean salary: 71759.80 USD\n",
    "Std of salary: 35507.89 USD\n",
    "\n",
    "\n",
    "This statisctics are for only Male:\n",
    "Max salary: 150000.00 USD\n",
    "Min salary: 15000.00 USD\n",
    "Mean salary: 67642.86 USD\n",
    "Std of salary: 32339.00 USD\n",
    "\n",
    "\n",
    "This statisctics are for both genders and who purchased:\n",
    "Max salary: 150000.00 USD\n",
    "Min salary: 20000.00 USD\n",
    "Mean salary: 86272.73 USD\n",
    "Std of salary: 41916.86 USD\n",
    "\n",
    "\n",
    "This statisctics are for only Female and who purchased:\n",
    "Max salary: 150000.00 USD\n",
    "Min salary: 20000.00 USD\n",
    "Mean salary: 88714.29 USD\n",
    "Std of salary: 42842.16 USD\n",
    "\n",
    "\n",
    "This statisctics are for only Male and who did not purchased:\n",
    "Max salary: 141000.00 USD\n",
    "Min salary: 15000.00 USD\n",
    "Mean salary: 59630.77 USD\n",
    "Std of salary: 23413.72 USD\n",
    "```"
   ]
  },
  {
   "cell_type": "code",
   "execution_count": 48,
   "metadata": {},
   "outputs": [],
   "source": [
    "#Начало вашего кода\n",
    "def age_info_purchased(data, gender=None, purchased=None):\n",
    "    data_np=np.array(data)\n",
    "    bool_m=data_np[:,1]==0\n",
    "    data_m=data_np[bool_m]\n",
    "    bool_f=data_np[:,1]==1\n",
    "    data_f=data_np[bool_f]\n",
    "    bool_p=data_np[:,4]==1\n",
    "    data_p=data_np[bool_p]\n",
    "    if gender==None and purchased==None:\n",
    "        print(f\"This statisctics are for both genders:\\nMax age: {data_np[:,2].max():.2f} years old\\nMin age: {data_np[:,2].min():.2f} years old\\nMean age: {data_np[:,2].mean():.2f} years old\\nStd of age: {data_np[:,2].std():.2f} years\")\n",
    "    elif str(gender).capitalize()==\"Male\"and purchased==None:\n",
    "        print(f\"This statisctics are for only Male:\\nMax age: {data_m[:,2].max():.2f} years old\\nMin age: {data_m[:,2].min():.2f} years old\\nMean age: {data_m[:,2].mean():.2f} years old\\nStd of age: {data_m[:,2].std():.2f} years\")\n",
    "    elif str(gender).capitalize()==\"Female\"and purchased==None:\n",
    "        print(f\"This statisctics are for only Female:\\nMax age: {data_f[:,2].max():.2f} years old\\nMin age: {data_f[:,2].min():.2f} years old\\nMean age: {data_f[:,2].mean():.2f} years old\\nStd of age: {data_f[:,2].std():.2f} years\")\n",
    "    elif gender==None and purchased==True:\n",
    "        print(f\"This statisctics are for both genders and who purchased:\\nMax age: {data_p[:,2].max():.2f} years old\\nMin age: {data_p[:,2].min():.2f} years old\\nMean age: {data_p[:,2].mean():.2f} years old\\nStd of age: {data_p[:,2].std():.2f} years\")\n",
    "    elif str(gender).capitalize()==\"Female\" and purchased==True:\n",
    "        bool_fp=data_f[:,4]==1\n",
    "        data_fp=data_f[bool_fp]\n",
    "        print(f\"This statisctics are for only Female and who purchased:\\nMax age: {data_fp[:,2].max():.2f} years old\\nMin age: {data_fp[:,2].min():.2f} years old\\nMean age: {data_fp[:,2].mean():.2f} years old\\nStd of age: {data_fp[:,2].std():.2f} years\")\n",
    "    elif str(gender).capitalize()==\"Male\" and purchased==False:\n",
    "        bool_purchased=data_m[:,4]==0\n",
    "        data_mp=data_m[bool_purchased]\n",
    "        print(f\"This statisctics are for only Male and who did not purchased:\\nMax age: {data_mp[:,2].max():.2f} years old\\nMin age: {data_mp[:,2].min():.2f} years old\\nMean age: {data_mp[:,2].mean():.2f} years old\\nStd of age: {data_mp[:,2].std():.2f} years\")\n",
    "    else:\n",
    "        print(\"Unexpected input\")\n",
    "#Конец вашего кода"
   ]
  },
  {
   "cell_type": "code",
   "execution_count": 49,
   "metadata": {},
   "outputs": [
    {
     "name": "stdout",
     "output_type": "stream",
     "text": [
      "This statisctics are for both genders:\n",
      "Max age: 60.00 years old\n",
      "Min age: 18.00 years old\n",
      "Mean age: 37.66 years old\n",
      "Std of age: 10.47 years\n",
      "\n",
      "\n",
      "This statisctics are for only Female:\n",
      "Max age: 60.00 years old\n",
      "Min age: 18.00 years old\n",
      "Mean age: 38.41 years old\n",
      "Std of age: 10.83 years\n",
      "\n",
      "\n",
      "This statisctics are for only Male:\n",
      "Max age: 60.00 years old\n",
      "Min age: 18.00 years old\n",
      "Mean age: 36.87 years old\n",
      "Std of age: 10.02 years\n",
      "\n",
      "\n",
      "This statisctics are for both genders and who purchased:\n",
      "Max age: 60.00 years old\n",
      "Min age: 27.00 years old\n",
      "Mean age: 46.39 years old\n",
      "Std of age: 8.58 years\n",
      "\n",
      "\n",
      "This statisctics are for only Female and who purchased:\n",
      "Max age: 60.00 years old\n",
      "Min age: 27.00 years old\n",
      "Mean age: 47.16 years old\n",
      "Std of age: 8.41 years\n",
      "\n",
      "\n",
      "This statisctics are for only Male and who did not purchased:\n",
      "Max age: 49.00 years old\n",
      "Min age: 18.00 years old\n",
      "Mean age: 32.48 years old\n",
      "Std of age: 7.48 years\n",
      "\n",
      "\n"
     ]
    }
   ],
   "source": [
    "age_info_purchased(filt_data)\n",
    "print(\"\\n\")\n",
    "age_info_purchased(filt_data, gender=\"Female\")\n",
    "print(\"\\n\")\n",
    "age_info_purchased(filt_data, gender=\"Male\")\n",
    "print(\"\\n\")\n",
    "age_info_purchased(filt_data, purchased=True)\n",
    "print(\"\\n\")\n",
    "age_info_purchased(filt_data, gender=\"Female\", purchased=True)\n",
    "print(\"\\n\")\n",
    "age_info_purchased(filt_data, gender=\"Male\", purchased=False)\n",
    "print(\"\\n\")"
   ]
  },
  {
   "cell_type": "markdown",
   "metadata": {},
   "source": [
    "### Ожидаемый результат:\n",
    "\n",
    "```\n",
    "This statisctics are for both genders:\n",
    "Max age: 60.00 years old\n",
    "Min age: 18.00 years old\n",
    "Mean age: 37.66 years old\n",
    "Std of age: 10.47 years\n",
    "\n",
    "\n",
    "This statisctics are for only Female:\n",
    "Max age: 60.00 years old\n",
    "Min age: 18.00 years old\n",
    "Mean age: 38.41 years old\n",
    "Std of age: 10.83 years\n",
    "\n",
    "\n",
    "This statisctics are for only Male:\n",
    "Max age: 60.00 years old\n",
    "Min age: 18.00 years old\n",
    "Mean age: 36.87 years old\n",
    "Std of age: 10.02 years\n",
    "\n",
    "\n",
    "This statisctics are for both genders and who purchased:\n",
    "Max age: 60.00 years old\n",
    "Min age: 27.00 years old\n",
    "Mean age: 46.39 years old\n",
    "Std of age:  8.58 years\n",
    "\n",
    "\n",
    "This statisctics are for only Female and who purchased:\n",
    "Max age: 60.00 years old\n",
    "Min age: 27.00 years old\n",
    "Mean age: 47.16 years old\n",
    "Std of age:  8.41 years\n",
    "\n",
    "\n",
    "This statisctics are for only Male and who did not purchased:\n",
    "Max age: 49.00 years old\n",
    "Min age: 18.00 years old\n",
    "Mean age: 32.48 years old\n",
    "Std of age:  7.48 years\n",
    "```"
   ]
  },
  {
   "cell_type": "markdown",
   "metadata": {},
   "source": [
    "# Прекрасная работа!"
   ]
  }
 ],
 "metadata": {
  "kernelspec": {
   "display_name": "Python 3",
   "language": "python",
   "name": "python3"
  },
  "language_info": {
   "codemirror_mode": {
    "name": "ipython",
    "version": 3
   },
   "file_extension": ".py",
   "mimetype": "text/x-python",
   "name": "python",
   "nbconvert_exporter": "python",
   "pygments_lexer": "ipython3",
   "version": "3.6.12"
  }
 },
 "nbformat": 4,
 "nbformat_minor": 2
}
